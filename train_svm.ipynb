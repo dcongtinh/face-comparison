{
 "metadata": {
  "language_info": {
   "codemirror_mode": {
    "name": "ipython",
    "version": 3
   },
   "file_extension": ".py",
   "mimetype": "text/x-python",
   "name": "python",
   "nbconvert_exporter": "python",
   "pygments_lexer": "ipython3",
   "version": 3
  },
  "orig_nbformat": 2,
  "kernelspec": {
   "name": "python_defaultSpec_1596948074602",
   "display_name": "Python 3.6.10 64-bit ('python36': conda)"
  }
 },
 "nbformat": 4,
 "nbformat_minor": 2,
 "cells": [
  {
   "cell_type": "code",
   "execution_count": 1,
   "metadata": {},
   "outputs": [],
   "source": [
    "import os\n",
    "import cv2\n",
    "import time\n",
    "import numpy as np\n",
    "import face_recognition\n",
    "from scipy import spatial\n",
    "import matplotlib.pyplot as plt\n",
    "from sklearn import svm\n",
    "\n",
    "# Training the SVC classifier"
   ]
  },
  {
   "cell_type": "code",
   "execution_count": 2,
   "metadata": {},
   "outputs": [],
   "source": [
    "aug = True\n",
    "if aug:\n",
    "    data_path = './datasets/temp/'\n",
    "    file_encoded = 'face_encoded_aug.npy'\n",
    "    predict_save_name = 'predicted_compare_aug.jpg'\n",
    "else:\n",
    "    data_path = './datasets/single/'\n",
    "    file_encoded = 'face_encoded.npy'\n",
    "    predict_save_name = 'predicted_compare.jpg'\n",
    "\n",
    "\n",
    "# The training data would be all the face encodings from all the known images and the labels are their names\n",
    "\n",
    "# Training directory\n",
    "train_dir = os.listdir(data_path)\n",
    "threshold = 0.95"
   ]
  },
  {
   "cell_type": "code",
   "execution_count": 3,
   "metadata": {},
   "outputs": [],
   "source": [
    "def importFaceEncoded(filename='face_encoded.npy'):\n",
    "    # with open(filename, 'rb') as f:\n",
    "    encodings = np.load(filename)\n",
    "    print(filename + ' has imported!')\n",
    "    return encodings"
   ]
  },
  {
   "cell_type": "code",
   "execution_count": 4,
   "metadata": {
    "tags": []
   },
   "outputs": [],
   "source": [
    "def findEncodings():\n",
    "    # Loop through each person in the training directory\n",
    "    encodings, names = [], []\n",
    "    for person in train_dir:\n",
    "        if person != '.DS_Store':\n",
    "            pix = os.listdir(data_path + person)\n",
    "            # Loop through each training image for the current person\n",
    "            for person_img in pix:\n",
    "                # Get the face encodings for the face in each image file\n",
    "                face = face_recognition.load_image_file(\n",
    "                    data_path + person + \"/\" + person_img)\n",
    "\n",
    "                face_enc = face_recognition.face_encodings(face)[0]\n",
    "                # Add face encoding for current image with corresponding label (name) to the training data\n",
    "                encodings.append(face_enc)\n",
    "                names.append(person)\n",
    "    return encodings, names\n",
    "\n",
    "replace = True\n",
    "if not os.path.isfile(file_encoded) or replace:\n",
    "    encodings, names = findEncodings()\n",
    "    with open(file_encoded, 'wb') as f:\n",
    "        np.save(f, encodings)\n",
    "    with open('names.npy', 'wb') as f:\n",
    "        np.save(f, names)\n",
    "else:\n",
    "    encodings = importFaceEncoded(file_encoded)\n",
    "    names = importFaceEncoded('names.npy')"
   ]
  },
  {
   "cell_type": "code",
   "execution_count": 5,
   "metadata": {},
   "outputs": [],
   "source": [
    "def draw_box(img, names_predicted, face_locations):\n",
    "    fontFace = cv2.FONT_HERSHEY_COMPLEX\n",
    "    count, fontScale, thickness = 0, 0.5, 1\n",
    "    red, green = (255, 0, 0), (0, 255, 0)\n",
    "    for name, faceLoc in zip(names_predicted, face_locations):\n",
    "        tolerance = 0.6\n",
    "        # faceDis = face_distance(encodeListKnown, encodeFace)\n",
    "        # matchIndex = np.argmin(faceDis)\n",
    "        # confidence = 1 - faceDis[matchIndex]\n",
    "        # if faceDis[matchIndex] <= tolerance:\n",
    "        color = green\n",
    "        # if confidence >= threshold:\n",
    "        #     name = '%s %.4f' % (\n",
    "        #         classNames[matchIndex].upper()[:8], confidence)\n",
    "        #     count += 1\n",
    "        # else:\n",
    "        #     name = 'Unknown~'\n",
    "        #     color = red\n",
    "        y1, x2, y2, x1 = faceLoc\n",
    "        labelSize = cv2.getTextSize(\n",
    "            name, fontFace, fontScale, 2)[0]\n",
    "        cv2.rectangle(img, (x1, y1), (x2, y2), color, thickness)\n",
    "        cv2.rectangle(\n",
    "            img, (x1, y1), (x1+labelSize[0], y1-labelSize[1]-20), color, cv2.FILLED)\n",
    "        cv2.putText(img, name, (x1, y1-10),\n",
    "                    fontFace, fontScale, (0, 0, 0), thickness)\n",
    "    cnt_x1, cnt_y1 = 12, 12\n",
    "    count_students = '%d student(s)' % len(names_predicted)\n",
    "    countSize = cv2.getTextSize(\n",
    "        count_students, fontFace, fontScale, thickness)[0]\n",
    "    cv2.rectangle(img, (cnt_x1, cnt_y1), (cnt_y1+countSize[0]+18, cnt_y1+countSize[1]+18),\n",
    "                  green, -1)\n",
    "    cv2.putText(img, count_students, (cnt_x1+8, countSize[1]+cnt_y1+8), fontFace,\n",
    "                fontScale=fontScale, color=(0, 0, 0), thickness=thickness)\n",
    "    return img"
   ]
  },
  {
   "cell_type": "code",
   "execution_count": 7,
   "metadata": {
    "tags": []
   },
   "outputs": [
    {
     "output_type": "stream",
     "name": "stdout",
     "text": "Number of faces detected:  23\nFound:\n\nDONE.\n"
    }
   ],
   "source": [
    "# Create and train the SVC classifier\n",
    "clf = svm.SVC(C=1000, gamma='scale')\n",
    "clf.fit(encodings, names)\n",
    "\n",
    "# Load the test image with unknown faces into a numpy array\n",
    "test_image = face_recognition.load_image_file('datasets/validation/class_hai.jpg')\n",
    "\n",
    "# Find all the faces in the test image using the default HOG-based model\n",
    "face_locations = face_recognition.face_locations(test_image)\n",
    "no = len(face_locations)\n",
    "print(\"Number of faces detected: \", no)\n",
    "\n",
    "\n",
    "# Predict all the faces in the test image using the trained classifier\n",
    "print(\"Found:\")\n",
    "names_predicted = []\n",
    "for i in range(no):\n",
    "    test_image_enc = face_recognition.face_encodings(test_image)[i]\n",
    "    name = clf.predict([test_image_enc])\n",
    "    names_predicted.append(*name)\n",
    "    # print(*name)\n",
    "\n",
    "test_image = draw_box(test_image, names_predicted, face_locations)\n",
    "plt.imsave(predict_save_name, test_image)\n",
    "print('\\nDONE.')"
   ]
  },
  {
   "cell_type": "code",
   "execution_count": null,
   "metadata": {},
   "outputs": [],
   "source": []
  }
 ]
}