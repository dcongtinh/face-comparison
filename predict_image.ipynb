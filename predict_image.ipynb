{
 "metadata": {
  "language_info": {
   "codemirror_mode": {
    "name": "ipython",
    "version": 3
   },
   "file_extension": ".py",
   "mimetype": "text/x-python",
   "name": "python",
   "nbconvert_exporter": "python",
   "pygments_lexer": "ipython3",
   "version": 3
  },
  "orig_nbformat": 2,
  "kernelspec": {
   "name": "python_defaultSpec_1596872959111",
   "display_name": "Python 3.6.10 64-bit ('python36': conda)"
  }
 },
 "nbformat": 4,
 "nbformat_minor": 2,
 "cells": [
  {
   "cell_type": "code",
   "execution_count": 1,
   "metadata": {},
   "outputs": [],
   "source": [
    "import os\n",
    "import cv2\n",
    "import time\n",
    "import numpy as np\n",
    "import face_recognition\n",
    "from scipy import spatial\n",
    "import matplotlib.pyplot as plt"
   ]
  },
  {
   "cell_type": "code",
   "execution_count": 2,
   "metadata": {
    "tags": []
   },
   "outputs": [],
   "source": [
    "aug = True\n",
    "if aug:\n",
    "    path = 'datasets/augmented'\n",
    "    file_encodings = 'encodings_aug.npy'\n",
    "    predict_save_name = 'predicted_compare_aug.jpg'\n",
    "else:\n",
    "    path = 'datasets/single'\n",
    "    file_encodings = 'encodings.npy'\n",
    "    predict_save_name = 'predicted_compare.jpg'\n",
    "file_names = 'names.npy'\n",
    "\n",
    "threshold = 0.95"
   ]
  },
  {
   "cell_type": "code",
   "execution_count": 3,
   "metadata": {},
   "outputs": [],
   "source": [
    "def TIME(f):\n",
    "    def wrapper(*args):\n",
    "        start_time = time.time()\n",
    "        res = f(*args)\n",
    "        end_time = time.time()\n",
    "        print('Run-time: %fs\\n' % (end_time-start_time))\n",
    "        return res\n",
    "    return wrapper\n",
    "\n",
    "\n",
    "@TIME\n",
    "def findEncodings():\n",
    "    encodings, names = [], []\n",
    "    for person in os.listdir(path):\n",
    "        if person != '.DS_Store':\n",
    "            image_dir = path + '/' + person\n",
    "            pix = os.listdir(image_dir)\n",
    "            if not os.path.isdir(image_dir):\n",
    "                os.mkdir(image_dir)\n",
    "            # Loop through each training image for the current person\n",
    "            for person_img in pix:\n",
    "                # Get the face encodings for the face in each image file\n",
    "                face = face_recognition.load_image_file(\n",
    "                    image_dir + \"/\" + person_img)\n",
    "\n",
    "                face_enc = face_recognition.face_encodings(face)[0]\n",
    "                # Add face encoding for current image with corresponding label (name) to the training data\n",
    "                encodings.append(face_enc)\n",
    "                names.append(person)\n",
    "    print('\\nNumber of classes: %d\\n' % len(names))\n",
    "    with open(file_encodings, 'wb') as f:\n",
    "        np.save(f, encodings)\n",
    "    with open(file_names, 'wb') as f:\n",
    "        np.save(f, names)\n",
    "    print('Encodings Complete')\n",
    "    return np.array(encodings), np.array(names)\n",
    "\n",
    "\n",
    "@TIME\n",
    "def importFaceEncoded(filename):\n",
    "    # with open(filename, 'rb') as f:\n",
    "    encodeListKnown = np.load(filename)\n",
    "    print(filename + ' has imported!')\n",
    "    return encodeListKnown\n",
    "\n",
    "\n",
    "def face_distance(face_encodings, face_to_compare):\n",
    "    if len(face_encodings) == 0:\n",
    "        return np.empty((0))\n",
    "    # normed = np.linalg.norm(face_encodings - face_to_compare, axis=1)\n",
    "    # return normed.T * normed\n",
    "    #----\n",
    "    arr = []\n",
    "    for face_encoding in face_encodings:\n",
    "        arr.append(spatial.distance.cosine(face_encoding, face_to_compare))\n",
    "\n",
    "    return np.array(arr)\n",
    "\n",
    "def draw_box(img, face_encodings, face_locations):\n",
    "    fontFace = cv2.FONT_HERSHEY_COMPLEX\n",
    "    count, fontScale, thickness = 0, 0.5, 1\n",
    "    red, green = (255, 0, 0), (0, 255, 0)\n",
    "    for encodeFace, faceLoc in zip(face_encodings, face_locations):\n",
    "        tolerance = 0.6\n",
    "        faceDis = face_distance(encodings, encodeFace)\n",
    "        matchIndex = np.argmin(faceDis)\n",
    "        confidence = 1 - faceDis[matchIndex]\n",
    "        if faceDis[matchIndex] <= tolerance:\n",
    "            color = green\n",
    "            if confidence >= threshold:\n",
    "                name = '%s %.4f' % (\n",
    "                    names[matchIndex].upper()[:8], confidence)\n",
    "                count += 1\n",
    "            else:\n",
    "                name = 'Unknown~'\n",
    "                color = red\n",
    "            y1, x2, y2, x1 = faceLoc\n",
    "            labelSize = cv2.getTextSize(\n",
    "                name, fontFace, fontScale, 2)[0]\n",
    "            cv2.rectangle(img, (x1, y1), (x2, y2), color, thickness)\n",
    "            cv2.rectangle(\n",
    "                img, (x1, y1), (x1+labelSize[0], y1-labelSize[1]-20), color, cv2.FILLED)\n",
    "            cv2.putText(img, name, (x1, y1-10),\n",
    "                        fontFace, fontScale, (0, 0, 0), thickness)\n",
    "    cnt_x1, cnt_y1 = 12, 12\n",
    "    count_students = '%d student(s)' % count\n",
    "    countSize = cv2.getTextSize(\n",
    "        count_students, fontFace, fontScale, thickness)[0]\n",
    "    cv2.rectangle(img, (cnt_x1, cnt_y1), (cnt_y1+countSize[0]+18, cnt_y1+countSize[1]+18),\n",
    "                  green, -1)\n",
    "    cv2.putText(img, count_students, (cnt_x1+8, countSize[1]+cnt_y1+8), fontFace,\n",
    "                fontScale=fontScale, color=(0, 0, 0), thickness=thickness)\n",
    "    return img\n",
    "\n",
    "@TIME\n",
    "def predict():\n",
    "    filename = 'datasets/validation/class_hai.jpg'\n",
    "    img = face_recognition.load_image_file(filename)\n",
    "    face_locations = face_recognition.face_locations(img)\n",
    "    face_encodings = face_recognition.face_encodings(img, face_locations)\n",
    "    img = draw_box(img, face_encodings, face_locations)\n",
    "    plt.imsave(predict_save_name, img)\n",
    "    print('Predcited')"
   ]
  },
  {
   "cell_type": "code",
   "execution_count": 4,
   "metadata": {
    "tags": []
   },
   "outputs": [
    {
     "output_type": "stream",
     "name": "stdout",
     "text": "\nNumber of classes: 255\n\nEncodings Complete\nRun-time: 234.621296s\n\n"
    }
   ],
   "source": [
    "replace = True\n",
    "if not os.path.isfile(file_encodings) or replace:\n",
    "    encodings, names = findEncodings()\n",
    "else:\n",
    "    encodings = importFaceEncoded(file_encodings)\n",
    "    names = importFaceEncoded(file_names)"
   ]
  },
  {
   "cell_type": "code",
   "execution_count": 5,
   "metadata": {
    "tags": []
   },
   "outputs": [
    {
     "output_type": "stream",
     "name": "stdout",
     "text": "Predcited\nRun-time: 6.675696s\n\n"
    }
   ],
   "source": [
    "predict()"
   ]
  },
  {
   "cell_type": "code",
   "execution_count": null,
   "metadata": {},
   "outputs": [],
   "source": []
  }
 ]
}