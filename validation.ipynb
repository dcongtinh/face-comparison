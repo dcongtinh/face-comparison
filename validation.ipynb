{
 "metadata": {
  "language_info": {
   "codemirror_mode": {
    "name": "ipython",
    "version": 3
   },
   "file_extension": ".py",
   "mimetype": "text/x-python",
   "name": "python",
   "nbconvert_exporter": "python",
   "pygments_lexer": "ipython3",
   "version": "3.6.8-final"
  },
  "orig_nbformat": 2,
  "kernelspec": {
   "name": "python_defaultSpec_1597322981727",
   "display_name": "Python 3.6.8 64-bit"
  }
 },
 "nbformat": 4,
 "nbformat_minor": 2,
 "cells": [
  {
   "cell_type": "code",
   "execution_count": 1,
   "metadata": {
    "tags": []
   },
   "outputs": [
    {
     "output_type": "stream",
     "name": "stdout",
     "text": "encodings_aug.npy has imported!\nnames.npy has imported!\n"
    }
   ],
   "source": [
    "import os\n",
    "import cv2\n",
    "import numpy as np\n",
    "import face_recognition\n",
    "from scipy import spatial\n",
    "from sklearn.metrics import accuracy_score\n",
    "\n",
    "file_encodings = 'encodings_aug.npy'\n",
    "file_names = 'names.npy'\n",
    "threshold, tolerance = 0.95, 0.6\n",
    "\n",
    "\n",
    "def importFaceEncoded(filename):\n",
    "    # with open(filename, 'rb') as f:\n",
    "    encodeListKnown = np.load(filename)\n",
    "    print(filename + ' has imported!')\n",
    "    return encodeListKnown\n",
    "\n",
    "\n",
    "encodings = importFaceEncoded(file_encodings)\n",
    "names = importFaceEncoded(file_names)"
   ]
  },
  {
   "cell_type": "code",
   "execution_count": 13,
   "metadata": {
    "tags": []
   },
   "outputs": [
    {
     "output_type": "stream",
     "name": "stdout",
     "text": "\nPredicting...\n\n"
    }
   ],
   "source": [
    "def face_distance(face_encodings, face_to_compare):\n",
    "    if len(face_encodings) == 0:\n",
    "        return np.empty((0))\n",
    "    arr = []\n",
    "    for face_encoding in face_encodings:\n",
    "        arr.append(spatial.distance.cosine(face_encoding, face_to_compare))\n",
    "\n",
    "    return np.array(arr)\n",
    "\n",
    "\n",
    "val_path = 'datasets/validation'\n",
    "y_pred, y_true = [], []\n",
    "\n",
    "print('\\nPredicting...\\n')\n",
    "for cl in os.listdir(val_path):\n",
    "    if cl != '.DS_Store':\n",
    "        data_dir = val_path + '/' + cl\n",
    "        \n",
    "        print(data_dir)\n",
    "        if not os.path.isfile(data_dir):\n",
    "            filename = os.listdir(data_dir)[0]\n",
    "            img = face_recognition.load_image_file(data_dir + '/' + filename)\n",
    "            face_enc = face_recognition.face_encodings(img)[0]\n",
    "            distance = face_distance(encodings, face_enc)\n",
    "            matchIndex = np.argmin(distance)\n",
    "            confidence = 1 - distance[matchIndex]\n",
    "            if distance[matchIndex] <= tolerance and confidence >= threshold:\n",
    "                y_pred.append(names[matchIndex])\n",
    "            else:\n",
    "                y_pred.append('Unknow~')\n",
    "            y_true.append(cl)\n",
    "\n",
    "y_pred = np.array(y_pred)\n",
    "y_true = np.array(y_true)"
   ]
  },
  {
   "cell_type": "code",
   "execution_count": 22,
   "metadata": {
    "tags": []
   },
   "outputs": [
    {
     "output_type": "stream",
     "name": "stdout",
     "text": "myanh thaimyanh\n0.9904761904761905\n"
    }
   ],
   "source": [
    "cnt = 0\n",
    "for i in range(len(y_pred)):\n",
    "    if y_pred[i] == y_true[i]:\n",
    "        cnt += 1\n",
    "    else:\n",
    "        print(y_pred[i], y_true[i])\n",
    "print('Accuracy', cnt/len(y_pred))"
   ]
  },
  {
   "cell_type": "code",
   "execution_count": null,
   "metadata": {},
   "outputs": [],
   "source": []
  }
 ]
}