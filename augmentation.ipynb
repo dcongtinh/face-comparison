{
 "metadata": {
  "language_info": {
   "codemirror_mode": {
    "name": "ipython",
    "version": 3
   },
   "file_extension": ".py",
   "mimetype": "text/x-python",
   "name": "python",
   "nbconvert_exporter": "python",
   "pygments_lexer": "ipython3",
   "version": "3.6.8-final"
  },
  "orig_nbformat": 2,
  "kernelspec": {
   "name": "python_defaultSpec_1597755560361",
   "display_name": "Python 3.6.8 64-bit"
  }
 },
 "nbformat": 4,
 "nbformat_minor": 2,
 "cells": [
  {
   "cell_type": "code",
   "execution_count": 1,
   "metadata": {
    "tags": []
   },
   "outputs": [
    {
     "output_type": "stream",
     "name": "stdout",
     "text": "datasets/augmented/B1709632 datasets/validation/B1709632 datasets/cropped/B1709632 B1709632\ndatasets/augmented/B1707567 datasets/validation/B1707567 datasets/cropped/B1707567 B1707567\ndatasets/augmented/B1812179 datasets/validation/B1812179 datasets/cropped/B1812179 B1812179\ndatasets/augmented/B1907548 datasets/validation/B1907548 datasets/cropped/B1907548 B1907548\ndatasets/augmented/B1905888 datasets/validation/B1905888 datasets/cropped/B1905888 B1905888\ndatasets/augmented/B1907905 datasets/validation/B1907905 datasets/cropped/B1907905 B1907905\ndatasets/augmented/B1906279 datasets/validation/B1906279 datasets/cropped/B1906279 B1906279\ndatasets/augmented/B1804804 datasets/validation/B1804804 datasets/cropped/B1804804 B1804804\ndatasets/augmented/B1907369 datasets/validation/B1907369 datasets/cropped/B1907369 B1907369\ndatasets/augmented/B1911465 datasets/validation/B1911465 datasets/cropped/B1911465 B1911465\ndatasets/augmented/B1905858 datasets/validation/B1905858 datasets/cropped/B1905858 B1905858\ndatasets/augmented/B1605247 datasets/validation/B1605247 datasets/cropped/B1605247 B1605247\ndatasets/augmented/Dc1532m5 datasets/validation/Dc1532m5 datasets/cropped/Dc1532m5 Dc1532m5\ndatasets/augmented/B1709618 datasets/validation/B1709618 datasets/cropped/B1709618 B1709618\ndatasets/augmented/B1911510 datasets/validation/B1911510 datasets/cropped/B1911510 B1911510\ndatasets/augmented/B1810377 datasets/validation/B1810377 datasets/cropped/B1810377 B1810377\ndatasets/augmented/B1808755 datasets/validation/B1808755 datasets/cropped/B1808755 B1808755\ndatasets/augmented/B1804734 datasets/validation/B1804734 datasets/cropped/B1804734 B1804734\ndatasets/augmented/B1909594 datasets/validation/B1909594 datasets/cropped/B1909594 B1909594\ndatasets/augmented/B1904428 datasets/validation/B1904428 datasets/cropped/B1904428 B1904428\ndatasets/augmented/B1605203 datasets/validation/B1605203 datasets/cropped/B1605203 B1605203\ndatasets/augmented/B1905870 datasets/validation/B1905870 datasets/cropped/B1905870 B1905870\ndatasets/augmented/B1811153 datasets/validation/B1811153 datasets/cropped/B1811153 B1811153\ndatasets/augmented/B1907324 datasets/validation/B1907324 datasets/cropped/B1907324 B1907324\ndatasets/augmented/B1808843 datasets/validation/B1808843 datasets/cropped/B1808843 B1808843\ndatasets/augmented/B1905871 datasets/validation/B1905871 datasets/cropped/B1905871 B1905871\ndatasets/augmented/B1911461 datasets/validation/B1911461 datasets/cropped/B1911461 B1911461\ndatasets/augmented/B1811124 datasets/validation/B1811124 datasets/cropped/B1811124 B1811124\ndatasets/augmented/B1911460 datasets/validation/B1911460 datasets/cropped/B1911460 B1911460\ndatasets/augmented/B1509922 datasets/validation/B1509922 datasets/cropped/B1509922 B1509922\ndatasets/augmented/B1809833 datasets/validation/B1809833 datasets/cropped/B1809833 B1809833\ndatasets/augmented/B1901781 datasets/validation/B1901781 datasets/cropped/B1901781 B1901781\ndatasets/augmented/B1905921 datasets/validation/B1905921 datasets/cropped/B1905921 B1905921\ndatasets/augmented/B1909511 datasets/validation/B1909511 datasets/cropped/B1909511 B1909511\n\nNumber of classes: 34\n\n"
    }
   ],
   "source": [
    "\n",
    "import os\n",
    "import cv2\n",
    "import time\n",
    "import numpy as np\n",
    "import face_recognition\n",
    "import matplotlib.pyplot as plt\n",
    "from tensorflow.keras.preprocessing.image import ImageDataGenerator\n",
    "\n",
    "path = 'datasets/cropped'\n",
    "augmented_path = 'datasets/augmented'\n",
    "validation_path = 'datasets/validation'\n",
    "\n",
    "images, classNames = [], []\n",
    "myList = os.listdir(path)\n",
    "aug = 24\n",
    "count = 0\n",
    "\n",
    "def augmentation(augmented_dir, validation_dir, filename, cl):\n",
    "    print(augmented_dir, validation_dir, filename, cl)\n",
    "    ext = '.jpg'\n",
    "    # print(filename + '/' + cl + '.jpg')\n",
    "    img = cv2.imread(filename + '/' + cl + '.jpg')\n",
    "    # cv2.imwrite(validation_dir + '/' + cl + '.jpg', img)\n",
    "    samples =  np.expand_dims(img, axis=0)\n",
    "    datagen = ImageDataGenerator(\n",
    "                                # rescale=1./255,\n",
    "                                rotation_range=15,\n",
    "                                zoom_range=0.10,\n",
    "                                width_shift_range=0.10,\n",
    "                                height_shift_range=0.10,\n",
    "                                brightness_range=[0.9, 1.1],\n",
    "                                shear_range=0.15,\n",
    "                                horizontal_flip=True,\n",
    "                                fill_mode=\"nearest\"\n",
    "                                )\n",
    "    it = datagen.flow(samples, batch_size=1)\n",
    "    for i in range(aug):\n",
    "        batch = it.next()\n",
    "        image = batch[0].astype('uint8')\n",
    "        cv2.imwrite('%s/%s_%d%s' % (augmented_dir, cl, i, ext), image)\n",
    "        # # define subplot\n",
    "        # plt.subplot(330 + 1 + i)\n",
    "        # # generate batch of images\n",
    "        # batch = it.next()\n",
    "        # # convert to unsigned integers for viewing\n",
    "        # image = batch[0].astype('uint8')\n",
    "        # # plot raw pixel data\n",
    "        # plt.imshow(image)\n",
    "\n",
    "# augmentation(path + '/B1709632.jpg', 'B1709632.jpg')\n",
    "# myList = ['B1811124.jpg']\n",
    "for cl in myList:\n",
    "    if cl != '.DS_Store':\n",
    "        augmented_dir = augmented_path + '/' + cl\n",
    "        validation_dir = validation_path + '/' + cl\n",
    "        if not os.path.isdir(augmented_dir):\n",
    "            os.mkdir(augmented_dir)\n",
    "        # if not os.path.isdir(validation_dir):\n",
    "        #     os.mkdir(validation_dir)\n",
    "        filecl = path + '/' + cl\n",
    "        augmentation(augmented_dir, validation_dir, filecl, cl)\n",
    "        count += 1\n",
    "\n",
    "print('\\nNumber of classes: %d\\n' % count)"
   ]
  },
  {
   "cell_type": "code",
   "execution_count": null,
   "metadata": {},
   "outputs": [],
   "source": []
  }
 ]
}