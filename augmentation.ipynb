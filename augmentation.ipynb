{
 "metadata": {
  "language_info": {
   "codemirror_mode": {
    "name": "ipython",
    "version": 3
   },
   "file_extension": ".py",
   "mimetype": "text/x-python",
   "name": "python",
   "nbconvert_exporter": "python",
   "pygments_lexer": "ipython3",
   "version": "3.6.8-final"
  },
  "orig_nbformat": 2,
  "kernelspec": {
   "name": "python_defaultSpec_1597409423219",
   "display_name": "Python 3.6.8 64-bit"
  }
 },
 "nbformat": 4,
 "nbformat_minor": 2,
 "cells": [
  {
   "cell_type": "code",
   "execution_count": 1,
   "metadata": {
    "tags": []
   },
   "outputs": [
    {
     "output_type": "stream",
     "name": "stdout",
     "text": "datasets/MTCNN/augmented/B1709632 datasets/MTCNN/validation/B1709632 datasets/MTCNN/cropped/B1709632 B1709632\ndatasets/MTCNN/augmented/B1605247 datasets/MTCNN/validation/B1605247 datasets/MTCNN/cropped/B1605247 B1605247\ndatasets/MTCNN/augmented/B1605203 datasets/MTCNN/validation/B1605203 datasets/MTCNN/cropped/B1605203 B1605203\ndatasets/MTCNN/augmented/B1509922 datasets/MTCNN/validation/B1509922 datasets/MTCNN/cropped/B1509922 B1509922\n\nNumber of classes: 4\n\n"
    }
   ],
   "source": [
    "\n",
    "import os\n",
    "import cv2\n",
    "import time\n",
    "import numpy as np\n",
    "import face_recognition\n",
    "import matplotlib.pyplot as plt\n",
    "from tensorflow.keras.preprocessing.image import ImageDataGenerator\n",
    "\n",
    "path = 'datasets/MTCNN/cropped'\n",
    "augmented_path = 'datasets/MTCNN/augmented'\n",
    "validation_path = 'datasets/MTCNN/validation'\n",
    "\n",
    "images, classNames = [], []\n",
    "myList = os.listdir(path)\n",
    "aug = 20\n",
    "count = 0\n",
    "\n",
    "def augmentation(augmented_dir, validation_dir, filename, cl):\n",
    "    print(augmented_dir, validation_dir, filename, cl)\n",
    "    ext = '.jpg'\n",
    "    # print(filename + '/' + cl + '.jpg')\n",
    "    img = cv2.imread(filename + '/' + cl + '.jpg')\n",
    "    # cv2.imwrite(validation_dir + '/' + cl + '.jpg', img)\n",
    "    samples =  np.expand_dims(img, axis=0)\n",
    "    datagen = ImageDataGenerator(\n",
    "                                # rescale=1./255,\n",
    "                                rotation_range=10,\n",
    "                                # zoom_range=0.10,\n",
    "                                # width_shift_range=0.10,\n",
    "                                # height_shift_range=0.10,\n",
    "                                brightness_range=[0.9, 1.1],\n",
    "                                # shear_range=0.15,\n",
    "                                horizontal_flip=True,\n",
    "                                # fill_mode=\"nearest\"\n",
    "                                )\n",
    "    it = datagen.flow(samples, batch_size=1)\n",
    "    for i in range(aug):\n",
    "        batch = it.next()\n",
    "        image = batch[0].astype('uint8')\n",
    "        cv2.imwrite('%s/%s_%d%s' % (augmented_dir, cl, i, ext), image)\n",
    "        # # define subplot\n",
    "        # plt.subplot(330 + 1 + i)\n",
    "        # # generate batch of images\n",
    "        # batch = it.next()\n",
    "        # # convert to unsigned integers for viewing\n",
    "        # image = batch[0].astype('uint8')\n",
    "        # # plot raw pixel data\n",
    "        # plt.imshow(image)\n",
    "\n",
    "# augmentation(path + '/B1709632.jpg', 'B1709632.jpg')\n",
    "# myList = ['B1811124.jpg']\n",
    "for cl in myList:\n",
    "    if cl != '.DS_Store':\n",
    "        augmented_dir = augmented_path + '/' + cl\n",
    "        validation_dir = validation_path + '/' + cl\n",
    "        if not os.path.isdir(augmented_dir):\n",
    "            os.mkdir(augmented_dir)\n",
    "        # if not os.path.isdir(validation_dir):\n",
    "        #     os.mkdir(validation_dir)\n",
    "        filecl = path + '/' + cl\n",
    "        augmentation(augmented_dir, validation_dir, filecl, cl)\n",
    "        count += 1\n",
    "\n",
    "print('\\nNumber of classes: %d\\n' % count)"
   ]
  },
  {
   "cell_type": "code",
   "execution_count": null,
   "metadata": {},
   "outputs": [],
   "source": []
  }
 ]
}