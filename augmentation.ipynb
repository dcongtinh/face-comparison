{
 "metadata": {
  "language_info": {
   "codemirror_mode": {
    "name": "ipython",
    "version": 3
   },
   "file_extension": ".py",
   "mimetype": "text/x-python",
   "name": "python",
   "nbconvert_exporter": "python",
   "pygments_lexer": "ipython3",
   "version": 3
  },
  "orig_nbformat": 2,
  "kernelspec": {
   "name": "python_defaultSpec_1596975083577",
   "display_name": "Python 3.6.10 64-bit ('python36': conda)"
  }
 },
 "nbformat": 4,
 "nbformat_minor": 2,
 "cells": [
  {
   "cell_type": "code",
   "execution_count": 3,
   "metadata": {
    "tags": []
   },
   "outputs": [
    {
     "output_type": "stream",
     "name": "stdout",
     "text": "datasets/single/B1811124.jpg\n\nNumber of classes: 1\n\n"
    }
   ],
   "source": [
    "\n",
    "import os\n",
    "import cv2\n",
    "import time\n",
    "import numpy as np\n",
    "import face_recognition\n",
    "import matplotlib.pyplot as plt\n",
    "from keras.preprocessing.image import ImageDataGenerator\n",
    "\n",
    "path = 'datasets/single'\n",
    "save_path = 'datasets/augmented'\n",
    "images, classNames = [], []\n",
    "myList = os.listdir(path)\n",
    "aug = 9\n",
    "count = 0\n",
    "\n",
    "def augmentation(data_dir, filename, label):\n",
    "    print(filename)\n",
    "    name, ext = os.path.splitext(label)\n",
    "    img = cv2.imread(filename)\n",
    "    cv2.imwrite(data_dir + '/' + label, img)\n",
    "    samples =  np.expand_dims(img, axis=0)\n",
    "    datagen = ImageDataGenerator(\n",
    "                                # rescale=1./255,\n",
    "                                rotation_range=10,\n",
    "                                # zoom_range=0.10,\n",
    "                                # width_shift_range=0.15,\n",
    "                                # height_shift_range=0.15,\n",
    "                                brightness_range=[0.9, 1.1],\n",
    "                                # shear_range=0.15,\n",
    "                                horizontal_flip=True,\n",
    "                                # fill_mode=\"nearest\"\n",
    "                                )\n",
    "    it = datagen.flow(samples, batch_size=1)\n",
    "    for i in range(aug):\n",
    "        batch = it.next()\n",
    "        image = batch[0].astype('uint8')\n",
    "        cv2.imwrite('%s/%s_%d%s' % (data_dir, name, i, ext), image)\n",
    "        # # define subplot\n",
    "        # plt.subplot(330 + 1 + i)\n",
    "        # # generate batch of images\n",
    "        # batch = it.next()\n",
    "        # # convert to unsigned integers for viewing\n",
    "        # image = batch[0].astype('uint8')\n",
    "        # # plot raw pixel data\n",
    "        # plt.imshow(image)\n",
    "\n",
    "# augmentation(path + '/B1709632.jpg', 'B1709632.jpg')\n",
    "# myList = ['B1811124.jpg']\n",
    "for cl in myList:\n",
    "    if cl != '.DS_Store':\n",
    "        label = cl.split('.')[0]\n",
    "        data_dir = save_path + '/' + label\n",
    "        if not os.path.isdir(data_dir):\n",
    "            os.mkdir(data_dir)\n",
    "        filename = path + '/' + cl\n",
    "        \n",
    "        augmentation(data_dir, filename, cl)\n",
    "        count += 1\n",
    "\n",
    "print('\\nNumber of classes: %d\\n' % count)"
   ]
  },
  {
   "cell_type": "code",
   "execution_count": null,
   "metadata": {},
   "outputs": [],
   "source": []
  }
 ]
}